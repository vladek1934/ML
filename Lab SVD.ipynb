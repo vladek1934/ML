{
 "cells": [
  {
   "cell_type": "code",
   "execution_count": 1,
   "metadata": {},
   "outputs": [],
   "source": [
    "import numpy as np\n",
    "import scipy.misc\n",
    "import pandas as pd\n",
    "from math import sqrt\n",
    "import math\n",
    "from scipy import linalg\n",
    "from collections import Counter"
   ]
  },
  {
   "cell_type": "code",
   "execution_count": 2,
   "metadata": {},
   "outputs": [],
   "source": [
    "def svd(matrix):\n",
    "    transposed = matrix.T\n",
    "    \n",
    "    multi1= transposed.dot(matrix)\n",
    "    multi2= matrix.dot(transposed)\n",
    "    \n",
    "    eigen,evector = linalg.eig(multi1)\n",
    "    #print(eigen)\n",
    "\n",
    "    TeVector = evector.T\n",
    "    #print(TeVector.dot(evector)) #checking that they are orthogonal\n",
    "    s = []\n",
    "    for i in eigen:\n",
    "        s.append(sqrt(abs(i)))\n",
    "    newS = np.diag(s)\n",
    "    part= newS.dot(TeVector)\n",
    "    U= matrix.dot(np.linalg.inv(part))\n",
    "    print(\"*********************************************************\")\n",
    "    svdcustom=U.dot(newS.dot(TeVector))\n",
    "    print(np.around(U, decimals=3))\n",
    "    print(np.around(newS, decimals=3))\n",
    "    print(np.around(TeVector, decimals=3))\n",
    "    print(np.around(svdcustom, decimals=3))\n",
    "    print(\"*********************************************************\")\n",
    "    U2,S2,V2 = np.linalg.svd(matrix)\n",
    "    svdreal=U2.dot(np.diag(S2).dot(V2))\n",
    "    print(np.around(U2, decimals=3))\n",
    "    print(np.around(np.diag(S2), decimals=3))\n",
    "    print(np.around(V2, decimals=3))\n",
    "    print(np.around(svdreal, decimals=3))\n",
    "    print(\"*********************************************************\")\n",
    "    print(matrix)\n",
    "    \n"
   ]
  },
  {
   "cell_type": "code",
   "execution_count": 3,
   "metadata": {},
   "outputs": [
    {
     "name": "stdout",
     "output_type": "stream",
     "text": [
      "*********************************************************\n",
      "[[-0.408 -0.     0.577]\n",
      " [-0.816  0.    -0.577]\n",
      " [-0.408 -0.     0.577]]\n",
      "[[2.828 0.    0.   ]\n",
      " [0.    0.    0.   ]\n",
      " [0.    0.    1.414]]\n",
      "[[-0.408 -0.866 -0.289]\n",
      " [ 0.707 -0.5    0.5  ]\n",
      " [-0.577 -0.     0.816]]\n",
      "[[-0.     1.     1.   ]\n",
      " [ 1.414  2.     0.   ]\n",
      " [-0.     1.     1.   ]]\n",
      "*********************************************************\n",
      "[[-0.408  0.577 -0.707]\n",
      " [-0.816 -0.577  0.   ]\n",
      " [-0.408  0.577  0.707]]\n",
      "[[2.828 0.    0.   ]\n",
      " [0.    1.414 0.   ]\n",
      " [0.    0.    0.   ]]\n",
      "[[-0.408 -0.866 -0.289]\n",
      " [-0.577 -0.     0.816]\n",
      " [-0.707  0.5   -0.5  ]]\n",
      "[[-0.     1.     1.   ]\n",
      " [ 1.414  2.    -0.   ]\n",
      " [-0.     1.     1.   ]]\n",
      "*********************************************************\n",
      "[[0.         1.         1.        ]\n",
      " [1.41421356 2.         0.        ]\n",
      " [0.         1.         1.        ]]\n"
     ]
    }
   ],
   "source": [
    "matrix= np.array([[0, 1, 1], [sqrt(2), 2, 0], [0, 1, 1]])\n",
    "svd(matrix)"
   ]
  }
 ],
 "metadata": {
  "kernelspec": {
   "display_name": "Python 3",
   "language": "python",
   "name": "python3"
  },
  "language_info": {
   "codemirror_mode": {
    "name": "ipython",
    "version": 3
   },
   "file_extension": ".py",
   "mimetype": "text/x-python",
   "name": "python",
   "nbconvert_exporter": "python",
   "pygments_lexer": "ipython3",
   "version": "3.6.5"
  }
 },
 "nbformat": 4,
 "nbformat_minor": 2
}
