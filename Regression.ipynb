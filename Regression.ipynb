{
 "cells": [
  {
   "cell_type": "code",
   "execution_count": 1,
   "metadata": {},
   "outputs": [],
   "source": [
    "import numpy as np\n",
    "import pandas as pd\n",
    "from sklearn.datasets import load_boston\n",
    "from sklearn.model_selection import train_test_split\n",
    "import math\n",
    "import operator"
   ]
  },
  {
   "cell_type": "code",
   "execution_count": 2,
   "metadata": {},
   "outputs": [],
   "source": [
    "def euclid(x,y,n):\n",
    "    distance = 0\n",
    "    \n",
    "    for i in range(n):\n",
    "        distance += math.pow(x[i] - y[i], 2)\n",
    "        \n",
    "    return math.sqrt(distance)"
   ]
  },
  {
   "cell_type": "code",
   "execution_count": 3,
   "metadata": {
    "scrolled": true
   },
   "outputs": [
    {
     "name": "stdout",
     "output_type": "stream",
     "text": [
      "Predicted: 22.13333333333333  Real: 23.2\n",
      "Predicted: 21.133333333333333  Real: 22.1\n",
      "Predicted: 35.9  Real: 20.6\n",
      "Predicted: 16.8  Real: 17.8\n",
      "Predicted: 33.800000000000004  Real: 41.7\n",
      "Predicted: 11.566666666666668  Real: 17.2\n",
      "Predicted: 19.666666666666668  Real: 20.5\n",
      "Predicted: 23.73333333333333  Real: 31.2\n",
      "Predicted: 31.566666666666663  Real: 32.0\n",
      "Predicted: 40.5  Real: 37.6\n",
      "Predicted: 16.599999999999998  Real: 13.3\n",
      "Predicted: 37.666666666666664  Real: 24.5\n",
      "Predicted: 30.666666666666668  Real: 19.4\n",
      "Predicted: 18.900000000000002  Real: 23.8\n",
      "Predicted: 21.133333333333333  Real: 21.0\n",
      "Predicted: 16.0  Real: 15.6\n",
      "Predicted: 32.233333333333334  Real: 37.0\n",
      "Predicted: 19.266666666666666  Real: 23.6\n",
      "Predicted: 22.833333333333332  Real: 23.6\n",
      "Predicted: 25.166666666666668  Real: 22.8\n",
      "Predicted: 26.866666666666664  Real: 19.9\n",
      "Predicted: 20.833333333333332  Real: 23.2\n",
      "Predicted: 23.166666666666668  Real: 24.6\n",
      "Predicted: 30.866666666666664  Real: 23.4\n",
      "Predicted: 14.033333333333333  Real: 17.2\n",
      "Predicted: 35.76666666666666  Real: 26.4\n",
      "Predicted: 38.6  Real: 37.2\n",
      "Predicted: 29.633333333333336  Real: 24.4\n",
      "Predicted: 23.2  Real: 25.0\n",
      "Predicted: 31.433333333333334  Real: 21.9\n",
      "Predicted: 11.700000000000001  Real: 12.7\n",
      "Predicted: 9.9  Real: 14.1\n",
      "Predicted: 16.6  Real: 27.5\n",
      "Predicted: 19.666666666666668  Real: 18.8\n",
      "Predicted: 16.666666666666668  Real: 27.9\n",
      "Predicted: 33.6  Real: 48.3\n",
      "Predicted: 19.6  Real: 25.0\n",
      "Predicted: 33.03333333333333  Real: 32.5\n",
      "Predicted: 13.966666666666669  Real: 13.5\n",
      "Predicted: 38.46666666666667  Real: 36.0\n",
      "Predicted: 18.666666666666668  Real: 17.8\n",
      "Predicted: 12.366666666666667  Real: 11.3\n",
      "Predicted: 13.266666666666667  Real: 15.6\n",
      "Predicted: 18.366666666666667  Real: 18.2\n",
      "Predicted: 20.5  Real: 50.0\n",
      "Predicted: 20.966666666666665  Real: 20.0\n",
      "Predicted: 16.0  Real: 13.1\n",
      "Predicted: 20.966666666666665  Real: 19.3\n",
      "Predicted: 10.533333333333333  Real: 10.5\n",
      "Predicted: 31.899999999999995  Real: 43.5\n",
      "Predicted: 18.766666666666666  Real: 20.6\n"
     ]
    }
   ],
   "source": [
    "boston_dataset = load_boston()\n",
    "X_train, X_test, y_train, y_test = train_test_split(boston_dataset['data'], boston_dataset['target'],test_size=0.1, random_state=23)\n",
    "X_train.shape, X_test.shape\n",
    "\n",
    "features=X_train.shape[1] #number of features\n",
    "elements=X_train.shape[0] #number of features\n",
    "tests=X_test.shape[0] #number of tests\n",
    "k =3 ; #number of neighbours\n",
    "\n",
    "for t in range(tests): #for every test element we initiate the prediction\n",
    "    predicted=0;\n",
    "    distance_array= []\n",
    "    for j in range(elements):\n",
    "        distance_array.append([j,euclid(X_test[t],X_train[j],features)]) #we find pairs, where\n",
    "                                                                            #j is the element of the test set\n",
    "                                                                            #and the second value is the distance to it\n",
    "\n",
    "    x=list(distance_array)\n",
    "    x=sorted(x,key=operator.itemgetter(1)) #we just sort them by distance values\n",
    "\n",
    "    for i in range(k):\n",
    "        predicted+=y_train[x[i][0]] #we add the real value to the prediction\n",
    "    \n",
    "    print(\"Predicted:\",predicted/k, \" Real:\", y_test[t]) #and find out the average for the predicted value\n",
    "    \n",
    "#The results are not always accurate, because we didn't select the optimal values of neighbours.\n",
    "\n"
   ]
  },
  {
   "cell_type": "code",
   "execution_count": 4,
   "metadata": {},
   "outputs": [
    {
     "name": "stdout",
     "output_type": "stream",
     "text": [
      "Predicted: 22.97666666666667  Real: 23.2\n",
      "Predicted: 22.37666666666667  Real: 22.1\n",
      "Predicted: 30.783333333333335  Real: 20.6\n",
      "Predicted: 16.896666666666672  Real: 17.8\n",
      "Predicted: 36.36333333333334  Real: 41.7\n",
      "Predicted: 10.786666666666669  Real: 17.2\n",
      "Predicted: 19.043333333333337  Real: 20.5\n",
      "Predicted: 26.580000000000002  Real: 31.2\n",
      "Predicted: 30.350000000000005  Real: 32.0\n",
      "Predicted: 35.79  Real: 37.6\n",
      "Predicted: 17.01666666666667  Real: 13.3\n",
      "Predicted: 34.356666666666676  Real: 24.5\n",
      "Predicted: 28.770000000000007  Real: 19.4\n",
      "Predicted: 19.900000000000002  Real: 23.8\n",
      "Predicted: 20.360000000000003  Real: 21.0\n",
      "Predicted: 16.42666666666667  Real: 15.6\n",
      "Predicted: 30.353333333333335  Real: 37.0\n",
      "Predicted: 23.206666666666667  Real: 23.6\n",
      "Predicted: 24.22333333333334  Real: 23.6\n",
      "Predicted: 22.87666666666667  Real: 22.8\n",
      "Predicted: 24.310000000000002  Real: 19.9\n",
      "Predicted: 20.533333333333335  Real: 23.2\n",
      "Predicted: 24.19  Real: 24.6\n",
      "Predicted: 28.856666666666673  Real: 23.4\n",
      "Predicted: 15.590000000000003  Real: 17.2\n",
      "Predicted: 33.68000000000001  Real: 26.4\n"
     ]
    }
   ],
   "source": [
    "#also, we could've applied different weights so that the nearest neighbour has a greater influence than the other one\n",
    "boston_dataset = load_boston()\n",
    "X_train, X_test, y_train, y_test = train_test_split(boston_dataset['data'], boston_dataset['target'],test_size=0.05, random_state=23)\n",
    "X_train.shape, X_test.shape\n",
    "\n",
    "features=X_train.shape[1] #number of features\n",
    "elements=X_train.shape[0] #number of features\n",
    "tests=X_test.shape[0] #number of tests\n",
    "k =5 ; #number of neighbours\n",
    "\n",
    "for t in range(tests): #for every test element we initiate the prediction\n",
    "    predicted=0;\n",
    "    distance_array= []\n",
    "    for j in range(elements):\n",
    "        distance_array.append([j,euclid(X_test[t],X_train[j],features)]) #we find pairs, where\n",
    "                                                                            #j is the element of the test set\n",
    "                                                                            #and the second value is the distance to it\n",
    "\n",
    "    x=list(distance_array)\n",
    "    x=sorted(x,key=operator.itemgetter(1)) #we just sort them by distance values\n",
    "    division=0\n",
    "    s=0.9 #starting weight\n",
    "    for i in range(k):\n",
    "        s-=0.1\n",
    "        division+=s\n",
    "        predicted+=(s*y_train[x[i][0]]) #we add the real value to the prediction\n",
    "    \n",
    "    print(\"Predicted:\",predicted/division, \" Real:\", y_test[t]) #and find out the average for the predicted value"
   ]
  }
 ],
 "metadata": {
  "kernelspec": {
   "display_name": "Python 3",
   "language": "python",
   "name": "python3"
  },
  "language_info": {
   "codemirror_mode": {
    "name": "ipython",
    "version": 3
   },
   "file_extension": ".py",
   "mimetype": "text/x-python",
   "name": "python",
   "nbconvert_exporter": "python",
   "pygments_lexer": "ipython3",
   "version": "3.6.5"
  }
 },
 "nbformat": 4,
 "nbformat_minor": 2
}
